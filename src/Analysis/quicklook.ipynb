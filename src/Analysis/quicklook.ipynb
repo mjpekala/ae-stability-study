{
 "cells": [
  {
   "cell_type": "markdown",
   "metadata": {},
   "source": [
    "# Quick Look At Stability Data Set"
   ]
  },
  {
   "cell_type": "code",
   "execution_count": 1,
   "metadata": {
    "collapsed": false
   },
   "outputs": [],
   "source": [
    "%matplotlib inline\n",
    "%load_ext autoreload\n",
    "%autoreload 2\n",
    "\n",
    "import os\n",
    "\n",
    "import numpy as np\n",
    "import pylab as plt\n",
    "import pandas as pd\n"
   ]
  },
  {
   "cell_type": "code",
   "execution_count": 12,
   "metadata": {
    "collapsed": false
   },
   "outputs": [
    {
     "name": "stdout",
     "output_type": "stream",
     "text": [
      "Index(['boundary_distance', 'delta_loss', 'direction_id', 'direction_type',\n",
      "       'k', 'y', 'y_hat', 'ell2_grad', 'Dataset', 'Example#', 'Approx_conf'],\n",
      "      dtype='object')\n",
      "\n",
      "Frame has 15 datasets: ['cifar10' 'FGM-0.02' 'FGM-0.03' 'FGM-0.05' 'FGM-0.10' 'FGM-0.15'\n",
      " 'FGM-0.20' 'FGM-0.25' 'I-FGM-0.02' 'I-FGM-0.03' 'I-FGM-0.05' 'I-FGM-0.10'\n",
      " 'I-FGM-0.15' 'I-FGM-0.20' 'I-FGM-0.25']\n",
      "\n",
      "Frame has 167 unique examples\n",
      "[ nan   2.   5.  10.  20.  50.]\n"
     ]
    }
   ],
   "source": [
    "df = pd.read_pickle('cifar10_stats_df_CH.pkl')\n",
    "\n",
    "print(df.dtypes.index)\n",
    "\n",
    "all_datasets = pd.unique(df['Dataset'])\n",
    "all_examples = pd.unique(df['Example#'])\n",
    "all_k = pd.unique(df['k'])\n",
    "\n",
    "print('')\n",
    "print('Frame has %d datasets: %s' % (len(datasets), datasets))\n",
    "print('')\n",
    "print('Frame has %d unique examples' % len(examples))\n",
    "\n",
    "\n",
    "print(all_k)"
   ]
  },
  {
   "cell_type": "code",
   "execution_count": 39,
   "metadata": {
    "collapsed": false
   },
   "outputs": [
    {
     "name": "stdout",
     "output_type": "stream",
     "text": [
      "    boundary_distance  delta_loss  direction_id direction_type    k  y  y_hat  \\\n",
      "32           0.251101    0.549469           0.0           gaas  2.0  3    5.0   \n",
      "33           0.249860    0.545869           1.0           gaas  2.0  3    5.0   \n",
      "\n",
      "    ell2_grad  Dataset  Example#  Approx_conf  \n",
      "32   2.167191  cifar10         0     1.867663  \n",
      "33   2.167191  cifar10         0     1.867663  \n",
      "2 : 2\n",
      "5 : 5\n",
      "10 : 10\n",
      "20 : 20\n",
      "50 : 50\n",
      "    boundary_distance  delta_loss  direction_id     direction_type    k  y  \\\n",
      "34            0.17918    0.543568           NaN  gaas_convex_combo  2.0  3   \n",
      "35            0.20274    0.546962           NaN  gaas_convex_combo  2.0  3   \n",
      "\n",
      "    y_hat  ell2_grad  Dataset  Example#  Approx_conf  \n",
      "34    5.0   2.167191  cifar10         0     1.867663  \n",
      "35    5.0   2.167191  cifar10         0     1.867663  \n",
      "2 : 2\n",
      "5 : 5\n",
      "10 : 10\n",
      "20 : 20\n",
      "50 : 30\n"
     ]
    }
   ],
   "source": [
    "for e_id in all_examples[:1]:\n",
    "    this_example = df.loc[(df['Example#'] == e_id) & (df['Dataset'] == 'cifar10') & (df['direction_type'] == 'gaas')]\n",
    "    \n",
    "    print(this_example[this_example['k'] == 2])\n",
    "    for kv in all_k:\n",
    "        if np.isfinite(kv):\n",
    "            print('%d : %d' % (kv, np.sum(this_example['k'] == kv)))\n",
    "    \n",
    "    \n",
    "    this_example = df.loc[(df['Example#'] == e_id) & (df['Dataset'] == 'cifar10') & (df['direction_type'] == 'gaas_convex_combo')]\n",
    "\n",
    "    print(this_example[this_example['k'] == 2])\n",
    "    for kv in all_k:\n",
    "        if np.isfinite(kv):\n",
    "            print('%d : %d' % (kv, np.sum(this_example['k'] == kv)))"
   ]
  }
 ],
 "metadata": {
  "anaconda-cloud": {},
  "kernelspec": {
   "display_name": "Python [default]",
   "language": "python",
   "name": "python3"
  },
  "language_info": {
   "codemirror_mode": {
    "name": "ipython",
    "version": 3
   },
   "file_extension": ".py",
   "mimetype": "text/x-python",
   "name": "python",
   "nbconvert_exporter": "python",
   "pygments_lexer": "ipython3",
   "version": "3.5.2"
  }
 },
 "nbformat": 4,
 "nbformat_minor": 1
}
