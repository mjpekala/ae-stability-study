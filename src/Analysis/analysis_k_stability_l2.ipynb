{
 "cells": [
  {
   "cell_type": "markdown",
   "metadata": {},
   "source": [
    "# K-stability\n",
    "\n",
    "Here we investigate whether the dimension k of adversarial subspaces for AE tend to be larger than those of \"clean\" (unmodified) examples in the case when AE occupy the \\epsilon-stable region of the clean example.  Part of our motivation is to determine whether \"k-stability\" is a reasonable detector for AE having small perturbations.\n",
    "\n",
    "For a precise definition of \\epsilon-stable, please see our writeup."
   ]
  },
  {
   "cell_type": "code",
   "execution_count": 5,
   "metadata": {
    "collapsed": false
   },
   "outputs": [],
   "source": [
    "%matplotlib inline\n",
    "\n",
    "import os\n",
    "import time\n",
    "import numpy as np\n",
    "import pylab as plt\n",
    "import pandas as pd\n",
    "plt.rcParams['figure.figsize'] = (16,9)\n",
    "from matplotlib import colors\n"
   ]
  },
  {
   "cell_type": "code",
   "execution_count": 3,
   "metadata": {
    "collapsed": true
   },
   "outputs": [],
   "source": [
    "def estimate_epsilon_stability(df, e_id, dataset, fudge_factor=2.0, large_constant=40.0):\n",
    "    # grab \"gaussian\" directions originating from clean example\n",
    "    subset = (df['Example#'] == e_id) & (df['direction_type'] == 'gaussian') & (df['Dataset'] == dataset)\n",
    "\n",
    "    # Generate an estimate for the \\epsilon stable region\n",
    "    epsilon_est = np.min(df[subset]['boundary_distance'])\n",
    "    return min(epsilon_est / fudge_factor, large_constant)\n",
    "    \n",
    "    \n",
    "\n",
    "def estimate_k_stability(df, e_id, dataset, epsilon_ref):\n",
    "    # grab subset of data corresponding to this example/point type\n",
    "    gaas_idx = (df['Example#'] == e_id) & (df['direction_type'] == 'gaas') & (df['Dataset'] == dataset)\n",
    "    subset = df[gaas_idx]\n",
    "    \n",
    "    if len(subset) == 0:\n",
    "        return None\n",
    "    \n",
    "    # Here we search brute force for the largest value of k for which most of the\n",
    "    # boundary distances are less than or equal to epsilon_ref.\n",
    "    # i.e. we seek the largest subspace such that by moving no more than epsilon_ref\n",
    "    # we are able to produce mostly AE with each basis vector.\n",
    "    k_all = pd.unique(subset['k'])\n",
    "    k_est = 0\n",
    "    \n",
    "    for idx, k in enumerate(k_all):\n",
    "        tmp = subset[subset['k'] == k]\n",
    "        freq = np.sum(tmp['boundary_distance'] <= epsilon_ref)\n",
    "        #print(epsilon_ref, freq, k) # TEMP\n",
    "        if freq < (k/2.0):\n",
    "            break # too many directions were ineffective\n",
    "        else:\n",
    "            k_est = k\n",
    "            \n",
    "    #print(subset) # TEMP\n",
    "    return k_est # the last value of k for which we were mostly unchanged in class label"
   ]
  },
  {
   "cell_type": "code",
   "execution_count": 4,
   "metadata": {
    "collapsed": false
   },
   "outputs": [
    {
     "name": "stdout",
     "output_type": "stream",
     "text": [
      "Index(['Approx_conf', 'Dataset', 'Example#', 'boundary_distance', 'delta_l2',\n",
      "       'delta_loss', 'direction_id', 'direction_type', 'ell2_grad', 'k', 'y',\n",
      "       'y_hat'],\n",
      "      dtype='object')\n",
      "frame has 21 datasets and 168 unique examples\n",
      "['cifar10' 'FGM-10.00' 'FGM-2.50' 'FGM-5.00' 'I-FGM-1.50' 'I-FGM-10.00'\n",
      " 'I-FGM-2.00' 'I-FGM-2.50' 'I-FGM-5.00' 'FGM-0.30' 'FGM-0.50' 'FGM-0.75'\n",
      " 'FGM-1.00' 'FGM-1.50' 'FGM-2.00' 'I-FGM-0.30' 'I-FGM-0.50' 'I-FGM-0.75'\n",
      " 'I-FGM-1.00' 'I-FGM-0.20' 'FGM-0.20']\n"
     ]
    },
    {
     "data": {
      "text/html": [
       "<div>\n",
       "<style>\n",
       "    .dataframe thead tr:only-child th {\n",
       "        text-align: right;\n",
       "    }\n",
       "\n",
       "    .dataframe thead th {\n",
       "        text-align: left;\n",
       "    }\n",
       "\n",
       "    .dataframe tbody tr th {\n",
       "        vertical-align: top;\n",
       "    }\n",
       "</style>\n",
       "<table border=\"1\" class=\"dataframe\">\n",
       "  <thead>\n",
       "    <tr style=\"text-align: right;\">\n",
       "      <th></th>\n",
       "      <th>Approx_conf</th>\n",
       "      <th>Dataset</th>\n",
       "      <th>Example#</th>\n",
       "      <th>boundary_distance</th>\n",
       "      <th>delta_l2</th>\n",
       "      <th>delta_loss</th>\n",
       "      <th>direction_id</th>\n",
       "      <th>direction_type</th>\n",
       "      <th>ell2_grad</th>\n",
       "      <th>k</th>\n",
       "      <th>y</th>\n",
       "      <th>y_hat</th>\n",
       "    </tr>\n",
       "  </thead>\n",
       "  <tbody>\n",
       "    <tr>\n",
       "      <th>0</th>\n",
       "      <td>2.384989</td>\n",
       "      <td>cifar10</td>\n",
       "      <td>0</td>\n",
       "      <td>2.248105</td>\n",
       "      <td>NaN</td>\n",
       "      <td>1.184469</td>\n",
       "      <td>NaN</td>\n",
       "      <td>gradient</td>\n",
       "      <td>0.484421</td>\n",
       "      <td>NaN</td>\n",
       "      <td>3</td>\n",
       "      <td>1.0</td>\n",
       "    </tr>\n",
       "    <tr>\n",
       "      <th>1</th>\n",
       "      <td>2.384989</td>\n",
       "      <td>cifar10</td>\n",
       "      <td>0</td>\n",
       "      <td>inf</td>\n",
       "      <td>NaN</td>\n",
       "      <td>NaN</td>\n",
       "      <td>NaN</td>\n",
       "      <td>neg-gradient</td>\n",
       "      <td>0.484421</td>\n",
       "      <td>NaN</td>\n",
       "      <td>3</td>\n",
       "      <td>NaN</td>\n",
       "    </tr>\n",
       "    <tr>\n",
       "      <th>2</th>\n",
       "      <td>2.384989</td>\n",
       "      <td>cifar10</td>\n",
       "      <td>0</td>\n",
       "      <td>10.786918</td>\n",
       "      <td>NaN</td>\n",
       "      <td>1.111750</td>\n",
       "      <td>NaN</td>\n",
       "      <td>gaussian</td>\n",
       "      <td>0.484421</td>\n",
       "      <td>NaN</td>\n",
       "      <td>3</td>\n",
       "      <td>6.0</td>\n",
       "    </tr>\n",
       "    <tr>\n",
       "      <th>3</th>\n",
       "      <td>2.384989</td>\n",
       "      <td>cifar10</td>\n",
       "      <td>0</td>\n",
       "      <td>16.394444</td>\n",
       "      <td>NaN</td>\n",
       "      <td>1.034890</td>\n",
       "      <td>NaN</td>\n",
       "      <td>gaussian</td>\n",
       "      <td>0.484421</td>\n",
       "      <td>NaN</td>\n",
       "      <td>3</td>\n",
       "      <td>6.0</td>\n",
       "    </tr>\n",
       "    <tr>\n",
       "      <th>4</th>\n",
       "      <td>2.384989</td>\n",
       "      <td>cifar10</td>\n",
       "      <td>0</td>\n",
       "      <td>16.801848</td>\n",
       "      <td>NaN</td>\n",
       "      <td>1.163014</td>\n",
       "      <td>NaN</td>\n",
       "      <td>gaussian</td>\n",
       "      <td>0.484421</td>\n",
       "      <td>NaN</td>\n",
       "      <td>3</td>\n",
       "      <td>6.0</td>\n",
       "    </tr>\n",
       "  </tbody>\n",
       "</table>\n",
       "</div>"
      ],
      "text/plain": [
       "   Approx_conf  Dataset  Example#  boundary_distance  delta_l2  delta_loss  \\\n",
       "0     2.384989  cifar10         0           2.248105       NaN    1.184469   \n",
       "1     2.384989  cifar10         0                inf       NaN         NaN   \n",
       "2     2.384989  cifar10         0          10.786918       NaN    1.111750   \n",
       "3     2.384989  cifar10         0          16.394444       NaN    1.034890   \n",
       "4     2.384989  cifar10         0          16.801848       NaN    1.163014   \n",
       "\n",
       "   direction_id direction_type  ell2_grad   k  y  y_hat  \n",
       "0           NaN       gradient   0.484421 NaN  3    1.0  \n",
       "1           NaN   neg-gradient   0.484421 NaN  3    NaN  \n",
       "2           NaN       gaussian   0.484421 NaN  3    6.0  \n",
       "3           NaN       gaussian   0.484421 NaN  3    6.0  \n",
       "4           NaN       gaussian   0.484421 NaN  3    6.0  "
      ]
     },
     "execution_count": 4,
     "metadata": {},
     "output_type": "execute_result"
    }
   ],
   "source": [
    "df = pd.read_pickle(os.path.expanduser(\"~/cifar10_stats_df_CH.pkl\"))\n",
    "\n",
    "print(df.dtypes.index)\n",
    "\n",
    "all_datasets = pd.unique(df['Dataset'])\n",
    "all_examples = pd.unique(df['Example#'])\n",
    "\n",
    "\n",
    "print('frame has %d datasets and %d unique examples' % (len(all_datasets), len(all_examples)))\n",
    "print(all_datasets)\n",
    "df.head()"
   ]
  },
  {
   "cell_type": "code",
   "execution_count": 12,
   "metadata": {
    "collapsed": false
   },
   "outputs": [
    {
     "name": "stdout",
     "output_type": "stream",
     "text": [
      "Took 4.38 seconds to compute stability metrics for clean\n"
     ]
    }
   ],
   "source": [
    "#=================================================================================\n",
    "# Stability estimates for each clean example.\n",
    "# More sophisticated methods are of course possible (and probably desirable)\n",
    "#=================================================================================\n",
    "\n",
    "epsilon_clean = np.zeros((len(all_examples),))\n",
    "k_max_clean = np.zeros((len(all_examples),))\n",
    "\n",
    "subset = df[df['Dataset'] == 'cifar10']  # speeds up calculations later\n",
    "\n",
    "tic = time.time()\n",
    "for idx, e_id in enumerate(all_examples):\n",
    "    epsilon_clean[idx] = estimate_epsilon_stability(subset, e_id, 'cifar10')\n",
    "    k_max_clean[idx] = estimate_k_stability(subset, e_id, 'cifar10', epsilon_clean[idx])\n",
    "    \n",
    "print('Took %0.2f seconds to compute stability metrics for clean' % (time.time() - tic))"
   ]
  },
  {
   "cell_type": "code",
   "execution_count": 14,
   "metadata": {
    "collapsed": false
   },
   "outputs": [
    {
     "name": "stdout",
     "output_type": "stream",
     "text": [
      "there are 168 clean examples total\n"
     ]
    },
    {
     "data": {
      "image/png": "[encoded data removed]",
      "text/plain": [
       "<matplotlib.figure.Figure at 0x111ba2f98>"
      ]
     },
     "metadata": {},
     "output_type": "display_data"
    },
    {
     "data": {
      "image/png": "[encoded data removed]",
      "text/plain": [
       "<matplotlib.figure.Figure at 0x111ace2b0>"
      ]
     },
     "metadata": {},
     "output_type": "display_data"
    }
   ],
   "source": [
    "#=================================================================================\n",
    "# Some statistics related to \\epsilon-stability\n",
    "#=================================================================================\n",
    "\n",
    "print('there are %d clean examples total' % epsilon_clean.size)\n",
    "\n",
    "plt.figure()\n",
    "plt.hist(epsilon_clean, 30)\n",
    "plt.xlabel('$\\epsilon$')\n",
    "plt.grid('on')\n",
    "\n",
    "\n",
    "plt.figure()\n",
    "plt.scatter(epsilon_clean, k_max_clean)\n",
    "plt.xlabel('epsilon')\n",
    "plt.ylabel('k_gaas')\n",
    "plt.grid('on')\n",
    "\n",
    "plt.show()\n"
   ]
  },
  {
   "cell_type": "code",
   "execution_count": 20,
   "metadata": {
    "collapsed": false
   },
   "outputs": [
    {
     "name": "stdout",
     "output_type": "stream",
     "text": [
      "Finished with FGM-10.00; net runtime: 0.28 sec\n",
      "Finished with FGM-2.50; net runtime: 1.44 sec\n",
      "Finished with FGM-5.00; net runtime: 2.25 sec\n",
      "Finished with I-FGM-1.50; net runtime: 3.48 sec\n",
      "Finished with I-FGM-10.00; net runtime: 3.78 sec\n",
      "Finished with I-FGM-2.00; net runtime: 4.98 sec\n",
      "Finished with I-FGM-2.50; net runtime: 6.15 sec\n",
      "Finished with I-FGM-5.00; net runtime: 7.04 sec\n",
      "Finished with FGM-0.30; net runtime: 7.54 sec\n",
      "Finished with FGM-0.50; net runtime: 8.25 sec\n",
      "Finished with FGM-0.75; net runtime: 9.14 sec\n",
      "Finished with FGM-1.00; net runtime: 10.21 sec\n",
      "Finished with FGM-1.50; net runtime: 11.48 sec\n",
      "Finished with FGM-2.00; net runtime: 12.61 sec\n",
      "Finished with I-FGM-0.30; net runtime: 13.14 sec\n",
      "Finished with I-FGM-0.50; net runtime: 13.90 sec\n",
      "Finished with I-FGM-0.75; net runtime: 14.83 sec\n",
      "Finished with I-FGM-1.00; net runtime: 15.93 sec\n",
      "Finished with I-FGM-0.20; net runtime: 16.25 sec\n",
      "Finished with FGM-0.20; net runtime: 16.56 sec\n"
     ]
    }
   ],
   "source": [
    "#=================================================================================\n",
    "# Stability estimates for AE\n",
    "#=================================================================================\n",
    "\n",
    "epsilon_ae = {}\n",
    "k_max_ae = {}\n",
    "tic = time.time()\n",
    "\n",
    "for data_set in all_datasets:\n",
    "    if data_set == 'cifar10':\n",
    "        continue # we already did this above\n",
    "        \n",
    "    this_data_set = df[df['Dataset'] == data_set]\n",
    "        \n",
    "    epsilon_i = np.nan * np.zeros((len(all_examples),))\n",
    "    k_max_i = np.nan * np.zeros((len(all_examples),))\n",
    "\n",
    "    for idx, e_id in enumerate(all_examples):\n",
    "        subset = this_data_set[this_data_set['Example#'] == e_id]\n",
    "        \n",
    "        if len(subset) == 0:\n",
    "            continue\n",
    "        \n",
    "        # check to see if this AE is in the stability region of its clean origin.\n",
    "        # if not, we skip it.\n",
    "        ae_dist = np.median(subset['delta_l2']) # these values should all be same; median just picks one\n",
    "        if ae_dist > epsilon_clean[idx]:\n",
    "            continue\n",
    "        \n",
    "        epsilon_i[idx] = estimate_epsilon_stability(subset, e_id, data_set)\n",
    "        k_max_i[idx] = estimate_k_stability(subset, e_id, data_set, epsilon_clean[idx])  # note: reference stability is for *clean* example!\n",
    "  \n",
    "    print('Finished with %s; net runtime: %0.2f sec' % (data_set, time.time()-tic))\n",
    "    epsilon_ae[data_set] = epsilon_i\n",
    "    k_max_ae[data_set] = k_max_i"
   ]
  },
  {
   "cell_type": "code",
   "execution_count": null,
   "metadata": {
    "collapsed": true
   },
   "outputs": [],
   "source": []
  }
 ],
 "metadata": {
  "anaconda-cloud": {},
  "kernelspec": {
   "display_name": "Python [default]",
   "language": "python",
   "name": "python3"
  },
  "language_info": {
   "codemirror_mode": {
    "name": "ipython",
    "version": 3
   },
   "file_extension": ".py",
   "mimetype": "text/x-python",
   "name": "python",
   "nbconvert_exporter": "python",
   "pygments_lexer": "ipython3",
   "version": "3.5.2"
  }
 },
 "nbformat": 4,
 "nbformat_minor": 1
}
