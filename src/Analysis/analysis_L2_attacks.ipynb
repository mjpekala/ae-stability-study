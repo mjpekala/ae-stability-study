{
 "cells": [
  {
   "cell_type": "markdown",
   "metadata": {},
   "source": [
    "# Preliminary CIFAR-10 Analysis\n",
    "\n",
    "Simple example using CIFAR-10 and a simple fast gradient sign attack. The same code should help to analyze other data we generate."
   ]
  },
  {
   "cell_type": "code",
   "execution_count": 1,
   "metadata": {},
   "outputs": [
    {
     "data": {
      "text/html": [
       "\n",
       "    <div class=\"bk-root\">\n",
       "        <a href=\"https://bokeh.pydata.org\" target=\"_blank\" class=\"bk-logo bk-logo-small bk-logo-notebook\"></a>\n",
       "        <span id=\"0faf8bef-ad7f-43f3-85f2-e0e0061e9208\">Loading BokehJS ...</span>\n",
       "    </div>"
      ]
     },
     "metadata": {},
     "output_type": "display_data"
    },
    {
     "data": {
      "application/javascript": [
       "\n",
       "(function(root) {\n",
       "  function now() {\n",
       "    return new Date();\n",
       "  }\n",
       "\n",
       "  var force = true;\n",
       "\n",
       "  if (typeof (root._bokeh_onload_callbacks) === \"undefined\" || force === true) {\n",
       "    root._bokeh_onload_callbacks = [];\n",
       "    root._bokeh_is_loading = undefined;\n",
       "  }\n",
       "\n",
       "\n",
       "  \n",
       "  if (typeof (root._bokeh_timeout) === \"undefined\" || force === true) {\n",
       "    root._bokeh_timeout = Date.now() + 5000;\n",
       "    root._bokeh_failed_load = false;\n",
       "  }\n",
       "\n",
       "  var NB_LOAD_WARNING = {'data': {'text/html':\n",
       "     \"<div style='background-color: #fdd'>\\n\"+\n",
       "     \"<p>\\n\"+\n",
       "     \"BokehJS does not appear to have successfully loaded. If loading BokehJS from CDN, this \\n\"+\n",
       "     \"may be due to a slow or bad network connection. Possible fixes:\\n\"+\n",
       "     \"</p>\\n\"+\n",
       "     \"<ul>\\n\"+\n",
       "     \"<li>re-rerun `output_notebook()` to attempt to load from CDN again, or</li>\\n\"+\n",
       "     \"<li>use INLINE resources instead, as so:</li>\\n\"+\n",
       "     \"</ul>\\n\"+\n",
       "     \"<code>\\n\"+\n",
       "     \"from bokeh.resources import INLINE\\n\"+\n",
       "     \"output_notebook(resources=INLINE)\\n\"+\n",
       "     \"</code>\\n\"+\n",
       "     \"</div>\"}};\n",
       "\n",
       "  function display_loaded() {\n",
       "    if (root.Bokeh !== undefined) {\n",
       "      var el = document.getElementById(\"0faf8bef-ad7f-43f3-85f2-e0e0061e9208\");\n",
       "      if (el != null) {\n",
       "        el.textContent = \"BokehJS \" + Bokeh.version + \" successfully loaded.\";\n",
       "      }\n",
       "    } else if (Date.now() < root._bokeh_timeout) {\n",
       "      setTimeout(display_loaded, 100)\n",
       "    }\n",
       "  }\n",
       "\n",
       "\n",
       "  function run_callbacks() {\n",
       "    try {\n",
       "      root._bokeh_onload_callbacks.forEach(function(callback) { callback() });\n",
       "    }\n",
       "    finally {\n",
       "      delete root._bokeh_onload_callbacks\n",
       "    }\n",
       "    console.info(\"Bokeh: all callbacks have finished\");\n",
       "  }\n",
       "\n",
       "  function load_libs(js_urls, callback) {\n",
       "    root._bokeh_onload_callbacks.push(callback);\n",
       "    if (root._bokeh_is_loading > 0) {\n",
       "      console.log(\"Bokeh: BokehJS is being loaded, scheduling callback at\", now());\n",
       "      return null;\n",
       "    }\n",
       "    if (js_urls == null || js_urls.length === 0) {\n",
       "      run_callbacks();\n",
       "      return null;\n",
       "    }\n",
       "    console.log(\"Bokeh: BokehJS not loaded, scheduling load and callback at\", now());\n",
       "    root._bokeh_is_loading = js_urls.length;\n",
       "    for (var i = 0; i < js_urls.length; i++) {\n",
       "      var url = js_urls[i];\n",
       "      var s = document.createElement('script');\n",
       "      s.src = url;\n",
       "      s.async = false;\n",
       "      s.onreadystatechange = s.onload = function() {\n",
       "        root._bokeh_is_loading--;\n",
       "        if (root._bokeh_is_loading === 0) {\n",
       "          console.log(\"Bokeh: all BokehJS libraries loaded\");\n",
       "          run_callbacks()\n",
       "        }\n",
       "      };\n",
       "      s.onerror = function() {\n",
       "        console.warn(\"failed to load library \" + url);\n",
       "      };\n",
       "      console.log(\"Bokeh: injecting script tag for BokehJS library: \", url);\n",
       "      document.getElementsByTagName(\"head\")[0].appendChild(s);\n",
       "    }\n",
       "  };var element = document.getElementById(\"0faf8bef-ad7f-43f3-85f2-e0e0061e9208\");\n",
       "  if (element == null) {\n",
       "    console.log(\"Bokeh: ERROR: autoload.js configured with elementid '0faf8bef-ad7f-43f3-85f2-e0e0061e9208' but no matching script tag was found. \")\n",
       "    return false;\n",
       "  }\n",
       "\n",
       "  var js_urls = [\"https://cdn.pydata.org/bokeh/release/bokeh-0.12.7.min.js\", \"https://cdn.pydata.org/bokeh/release/bokeh-widgets-0.12.7.min.js\", \"https://cdn.pydata.org/bokeh/release/bokeh-tables-0.12.7.min.js\", \"https://cdn.pydata.org/bokeh/release/bokeh-gl-0.12.7.min.js\"];\n",
       "\n",
       "  var inline_js = [\n",
       "    function(Bokeh) {\n",
       "      Bokeh.set_log_level(\"info\");\n",
       "    },\n",
       "    \n",
       "    function(Bokeh) {\n",
       "      \n",
       "    },\n",
       "    \n",
       "    function(Bokeh) {\n",
       "      \n",
       "      document.getElementById(\"0faf8bef-ad7f-43f3-85f2-e0e0061e9208\").textContent = \"BokehJS is loading...\";\n",
       "    },\n",
       "    function(Bokeh) {\n",
       "      console.log(\"Bokeh: injecting CSS: https://cdn.pydata.org/bokeh/release/bokeh-0.12.7.min.css\");\n",
       "      Bokeh.embed.inject_css(\"https://cdn.pydata.org/bokeh/release/bokeh-0.12.7.min.css\");\n",
       "      console.log(\"Bokeh: injecting CSS: https://cdn.pydata.org/bokeh/release/bokeh-widgets-0.12.7.min.css\");\n",
       "      Bokeh.embed.inject_css(\"https://cdn.pydata.org/bokeh/release/bokeh-widgets-0.12.7.min.css\");\n",
       "      console.log(\"Bokeh: injecting CSS: https://cdn.pydata.org/bokeh/release/bokeh-tables-0.12.7.min.css\");\n",
       "      Bokeh.embed.inject_css(\"https://cdn.pydata.org/bokeh/release/bokeh-tables-0.12.7.min.css\");\n",
       "    }\n",
       "  ];\n",
       "\n",
       "  function run_inline_js() {\n",
       "    \n",
       "    if ((root.Bokeh !== undefined) || (force === true)) {\n",
       "      for (var i = 0; i < inline_js.length; i++) {\n",
       "        inline_js[i].call(root, root.Bokeh);\n",
       "      }if (force === true) {\n",
       "        display_loaded();\n",
       "      }} else if (Date.now() < root._bokeh_timeout) {\n",
       "      setTimeout(run_inline_js, 100);\n",
       "    } else if (!root._bokeh_failed_load) {\n",
       "      console.log(\"Bokeh: BokehJS failed to load within specified timeout.\");\n",
       "      root._bokeh_failed_load = true;\n",
       "    } else if (force !== true) {\n",
       "      var cell = $(document.getElementById(\"0faf8bef-ad7f-43f3-85f2-e0e0061e9208\")).parents('.cell').data().cell;\n",
       "      cell.output_area.append_execute_result(NB_LOAD_WARNING)\n",
       "    }\n",
       "\n",
       "  }\n",
       "\n",
       "  if (root._bokeh_is_loading === 0) {\n",
       "    console.log(\"Bokeh: BokehJS loaded, going straight to plotting\");\n",
       "    run_inline_js();\n",
       "  } else {\n",
       "    load_libs(js_urls, function() {\n",
       "      console.log(\"Bokeh: BokehJS plotting callback run at\", now());\n",
       "      run_inline_js();\n",
       "    });\n",
       "  }\n",
       "}(window));"
      ]
     },
     "metadata": {},
     "output_type": "display_data"
    }
   ],
   "source": [
    "%matplotlib inline\n",
    "import numpy as np\n",
    "import matplotlib.pyplot as plt\n",
    "import pandas as pd\n",
    "plt.rcParams['figure.figsize'] = (16,9)\n",
    "from matplotlib import colors\n",
    "import random\n",
    "\n",
    "from bokeh.plotting import figure \n",
    "from bokeh.io import output_notebook, show\n",
    "from bokeh.transform import dodge\n",
    "from bokeh.models import ColumnDataSource, FactorRange, CustomJS, Range1d\n",
    "from bokeh.layouts import widgetbox, column, gridplot, layout\n",
    "from bokeh.models.widgets import Slider\n",
    "output_notebook()"
   ]
  },
  {
   "cell_type": "code",
   "execution_count": 2,
   "metadata": {},
   "outputs": [
    {
     "name": "stdout",
     "output_type": "stream",
     "text": [
      "Index(['Approx_conf', 'Dataset', 'Example#', 'boundary_distance', 'delta_l2',\n",
      "       'delta_loss', 'direction_id', 'direction_type', 'ell2_grad', 'k', 'y',\n",
      "       'y_hat'],\n",
      "      dtype='object')\n",
      "frame has 21 datasets and 168 unique examples\n",
      "['cifar10' 'FGM-10.00' 'FGM-2.50' 'FGM-5.00' 'I-FGM-1.50' 'I-FGM-10.00'\n",
      " 'I-FGM-2.00' 'I-FGM-2.50' 'I-FGM-5.00' 'FGM-0.30' 'FGM-0.50' 'FGM-0.75'\n",
      " 'FGM-1.00' 'FGM-1.50' 'FGM-2.00' 'I-FGM-0.30' 'I-FGM-0.50' 'I-FGM-0.75'\n",
      " 'I-FGM-1.00' 'I-FGM-0.20' 'FGM-0.20']\n"
     ]
    }
   ],
   "source": [
    "df = pd.read_pickle(r\"\\\\dom1\\REDD\\Groups\\R1Q\\Projects\\AE_IRAD_2018\\Data\\Data_For_Evans_CIFAR_Experiments\\Feb_9_2018_ell2\\cifar10_stats_df_CH.pkl\")\n",
    "\n",
    "print(df.dtypes.index)\n",
    "\n",
    "datasets = pd.unique(df['Dataset'])\n",
    "examples = pd.unique(df['Example#'])\n",
    "\n",
    "print('frame has %d datasets and %d unique examples' % (len(datasets), len(examples)))\n",
    "print(datasets)"
   ]
  },
  {
   "cell_type": "code",
   "execution_count": 3,
   "metadata": {},
   "outputs": [
    {
     "name": "stdout",
     "output_type": "stream",
     "text": [
      "40.0\n"
     ]
    },
    {
     "data": {
      "text/html": [
       "<div>\n",
       "<style scoped>\n",
       "    .dataframe tbody tr th:only-of-type {\n",
       "        vertical-align: middle;\n",
       "    }\n",
       "\n",
       "    .dataframe tbody tr th {\n",
       "        vertical-align: top;\n",
       "    }\n",
       "\n",
       "    .dataframe thead th {\n",
       "        text-align: right;\n",
       "    }\n",
       "</style>\n",
       "<table border=\"1\" class=\"dataframe\">\n",
       "  <thead>\n",
       "    <tr style=\"text-align: right;\">\n",
       "      <th></th>\n",
       "      <th>Approx_conf</th>\n",
       "      <th>Example#</th>\n",
       "      <th>boundary_distance</th>\n",
       "      <th>delta_l2</th>\n",
       "      <th>delta_loss</th>\n",
       "      <th>direction_id</th>\n",
       "      <th>ell2_grad</th>\n",
       "      <th>k</th>\n",
       "      <th>y</th>\n",
       "      <th>y_hat</th>\n",
       "    </tr>\n",
       "  </thead>\n",
       "  <tbody>\n",
       "    <tr>\n",
       "      <th>count</th>\n",
       "      <td>677082.000000</td>\n",
       "      <td>677082.000000</td>\n",
       "      <td>677082.000000</td>\n",
       "      <td>627690.000000</td>\n",
       "      <td>650432.000000</td>\n",
       "      <td>221088.000000</td>\n",
       "      <td>6.770820e+05</td>\n",
       "      <td>442176.000000</td>\n",
       "      <td>677082.000000</td>\n",
       "      <td>650432.000000</td>\n",
       "    </tr>\n",
       "    <tr>\n",
       "      <th>mean</th>\n",
       "      <td>2.652108</td>\n",
       "      <td>99.726010</td>\n",
       "      <td>8.158607</td>\n",
       "      <td>3.324474</td>\n",
       "      <td>0.660262</td>\n",
       "      <td>8.500000</td>\n",
       "      <td>9.891906e-01</td>\n",
       "      <td>18.000000</td>\n",
       "      <td>4.310899</td>\n",
       "      <td>4.454098</td>\n",
       "    </tr>\n",
       "    <tr>\n",
       "      <th>std</th>\n",
       "      <td>2.338897</td>\n",
       "      <td>57.848123</td>\n",
       "      <td>16.120693</td>\n",
       "      <td>3.170978</td>\n",
       "      <td>0.359330</td>\n",
       "      <td>7.589758</td>\n",
       "      <td>1.004614e+00</td>\n",
       "      <td>9.594931</td>\n",
       "      <td>2.721509</td>\n",
       "      <td>2.520458</td>\n",
       "    </tr>\n",
       "    <tr>\n",
       "      <th>min</th>\n",
       "      <td>0.002772</td>\n",
       "      <td>0.000000</td>\n",
       "      <td>0.000537</td>\n",
       "      <td>0.200000</td>\n",
       "      <td>-0.709602</td>\n",
       "      <td>0.000000</td>\n",
       "      <td>9.478230e-08</td>\n",
       "      <td>2.000000</td>\n",
       "      <td>0.000000</td>\n",
       "      <td>0.000000</td>\n",
       "    </tr>\n",
       "    <tr>\n",
       "      <th>25%</th>\n",
       "      <td>0.761852</td>\n",
       "      <td>50.000000</td>\n",
       "      <td>0.603393</td>\n",
       "      <td>1.000000</td>\n",
       "      <td>0.387862</td>\n",
       "      <td>2.000000</td>\n",
       "      <td>1.225919e-01</td>\n",
       "      <td>10.000000</td>\n",
       "      <td>2.000000</td>\n",
       "      <td>3.000000</td>\n",
       "    </tr>\n",
       "    <tr>\n",
       "      <th>50%</th>\n",
       "      <td>2.042913</td>\n",
       "      <td>101.000000</td>\n",
       "      <td>2.212985</td>\n",
       "      <td>2.000000</td>\n",
       "      <td>0.686018</td>\n",
       "      <td>6.000000</td>\n",
       "      <td>6.969594e-01</td>\n",
       "      <td>20.000000</td>\n",
       "      <td>4.000000</td>\n",
       "      <td>4.000000</td>\n",
       "    </tr>\n",
       "    <tr>\n",
       "      <th>75%</th>\n",
       "      <td>3.904595</td>\n",
       "      <td>151.000000</td>\n",
       "      <td>8.378677</td>\n",
       "      <td>5.000000</td>\n",
       "      <td>0.886245</td>\n",
       "      <td>13.000000</td>\n",
       "      <td>1.576323e+00</td>\n",
       "      <td>30.000000</td>\n",
       "      <td>6.000000</td>\n",
       "      <td>6.000000</td>\n",
       "    </tr>\n",
       "    <tr>\n",
       "      <th>max</th>\n",
       "      <td>17.031054</td>\n",
       "      <td>199.000000</td>\n",
       "      <td>80.000000</td>\n",
       "      <td>10.000001</td>\n",
       "      <td>1.994356</td>\n",
       "      <td>29.000000</td>\n",
       "      <td>5.932024e+00</td>\n",
       "      <td>30.000000</td>\n",
       "      <td>9.000000</td>\n",
       "      <td>9.000000</td>\n",
       "    </tr>\n",
       "  </tbody>\n",
       "</table>\n",
       "</div>"
      ],
      "text/plain": [
       "         Approx_conf       Example#  boundary_distance       delta_l2  \\\n",
       "count  677082.000000  677082.000000      677082.000000  627690.000000   \n",
       "mean        2.652108      99.726010           8.158607       3.324474   \n",
       "std         2.338897      57.848123          16.120693       3.170978   \n",
       "min         0.002772       0.000000           0.000537       0.200000   \n",
       "25%         0.761852      50.000000           0.603393       1.000000   \n",
       "50%         2.042913     101.000000           2.212985       2.000000   \n",
       "75%         3.904595     151.000000           8.378677       5.000000   \n",
       "max        17.031054     199.000000          80.000000      10.000001   \n",
       "\n",
       "          delta_loss   direction_id     ell2_grad              k  \\\n",
       "count  650432.000000  221088.000000  6.770820e+05  442176.000000   \n",
       "mean        0.660262       8.500000  9.891906e-01      18.000000   \n",
       "std         0.359330       7.589758  1.004614e+00       9.594931   \n",
       "min        -0.709602       0.000000  9.478230e-08       2.000000   \n",
       "25%         0.387862       2.000000  1.225919e-01      10.000000   \n",
       "50%         0.686018       6.000000  6.969594e-01      20.000000   \n",
       "75%         0.886245      13.000000  1.576323e+00      30.000000   \n",
       "max         1.994356      29.000000  5.932024e+00      30.000000   \n",
       "\n",
       "                   y          y_hat  \n",
       "count  677082.000000  650432.000000  \n",
       "mean        4.310899       4.454098  \n",
       "std         2.721509       2.520458  \n",
       "min         0.000000       0.000000  \n",
       "25%         2.000000       3.000000  \n",
       "50%         4.000000       4.000000  \n",
       "75%         6.000000       6.000000  \n",
       "max         9.000000       9.000000  "
      ]
     },
     "execution_count": 3,
     "metadata": {},
     "output_type": "execute_result"
    }
   ],
   "source": [
    "#replace infinities so we can show histograms.  Treat not finding a boundary distance as if it would take twice the distance we looked.\n",
    "d_max = round(df.boundary_distance[df.boundary_distance != np.inf].max())\n",
    "df.replace(np.inf, 2 * d_max, inplace=True)\n",
    "print(d_max)\n",
    "df.describe()"
   ]
  },
  {
   "cell_type": "code",
   "execution_count": null,
   "metadata": {
    "scrolled": true
   },
   "outputs": [],
   "source": [
    "ax = df.hist('boundary_distance', by=['Dataset', 'direction_type'], bins=np.linspace(0,40,80), figsize=(30,35), layout=(15,5))"
   ]
  },
  {
   "cell_type": "code",
   "execution_count": null,
   "metadata": {
    "collapsed": true,
    "scrolled": false
   },
   "outputs": [],
   "source": [
    "ax = df[df['Example#']==51].hist('boundary_distance', by=['Dataset', 'direction_type'], bins=np.linspace(0,40,80), figsize=(30,35), layout=(15,5))"
   ]
  },
  {
   "cell_type": "code",
   "execution_count": 4,
   "metadata": {
    "collapsed": true
   },
   "outputs": [],
   "source": [
    "example_stability = df[df.direction_type=='gaussian'].groupby(['Example#', 'Dataset'])['boundary_distance', 'k'].min()\n",
    "#example_stability = example_stability.reset_index()"
   ]
  },
  {
   "cell_type": "code",
   "execution_count": null,
   "metadata": {},
   "outputs": [],
   "source": [
    "#example_stability.loc[0,'FGM-0.02'].k = 2\n",
    "example_stability.head()\n",
    "examp = 0\n",
    "eps=2\n",
    "dataset = 'FGM-0.02'\n",
    "example_stability.loc[examp, dataset].k = df[(df['Example#'] == examp) & (df.Dataset == dataset) & (df.direction_type == 'gaas') & (df.boundary_distance < eps)].k.max()\n",
    "example_stability.head()"
   ]
  },
  {
   "cell_type": "code",
   "execution_count": 5,
   "metadata": {},
   "outputs": [],
   "source": [
    "for dataset in df.Dataset.unique():\n",
    "    for examp in df[df.Dataset == dataset]['Example#'].unique():\n",
    "        eps = example_stability.loc[examp, dataset].boundary_distance / 10 #look up closest boundary\n",
    "        x = (df[(df['Example#'] == examp) & (df.Dataset == dataset) & (df.direction_type == 'gaas') & (df.boundary_distance < eps)].k.max())\n",
    "        if np.isnan(x):\n",
    "            example_stability.loc[examp, dataset].k = 0\n",
    "        else:\n",
    "            example_stability.loc[examp, dataset].k = x\n",
    "        "
   ]
  },
  {
   "cell_type": "code",
   "execution_count": 7,
   "metadata": {
    "scrolled": true
   },
   "outputs": [],
   "source": [
    "idx = pd.IndexSlice"
   ]
  },
  {
   "cell_type": "code",
   "execution_count": 11,
   "metadata": {},
   "outputs": [],
   "source": [
    "delta_epk = {examp: ((example_stability.loc[examp,'cifar10'].boundary_distance / 5 - 2), (example_stability.loc[examp,'cifar10'].boundary_distance - example_stability.loc[examp,'FGM-2.00'].boundary_distance) / 5, (example_stability.loc[examp,'cifar10'].k - example_stability.loc[examp,'FGM-2.00'].k))\\\n",
    " for examp in example_stability.loc[idx[:,'FGM-2.00'],:].index.get_level_values('Example#')}\n",
    "#delta_k = {examp: example_stability.loc[examp,'cifar10'].k - example_stability.loc[examp,'FGM-0.02'].k for examp in example_stability.loc[idx[:,'FGM-0.02'],:].index.get_level_values('Example#')}"
   ]
  },
  {
   "cell_type": "code",
   "execution_count": 12,
   "metadata": {},
   "outputs": [
    {
     "data": {
      "text/html": [
       "<div>\n",
       "<style scoped>\n",
       "    .dataframe tbody tr th:only-of-type {\n",
       "        vertical-align: middle;\n",
       "    }\n",
       "\n",
       "    .dataframe tbody tr th {\n",
       "        vertical-align: top;\n",
       "    }\n",
       "\n",
       "    .dataframe thead th {\n",
       "        text-align: right;\n",
       "    }\n",
       "</style>\n",
       "<table border=\"1\" class=\"dataframe\">\n",
       "  <thead>\n",
       "    <tr style=\"text-align: right;\">\n",
       "      <th></th>\n",
       "      <th>eps-2</th>\n",
       "      <th>cifar-ae</th>\n",
       "      <th>delta_k</th>\n",
       "    </tr>\n",
       "  </thead>\n",
       "  <tbody>\n",
       "    <tr>\n",
       "      <th>1</th>\n",
       "      <td>-1.461329</td>\n",
       "      <td>-1.796336</td>\n",
       "      <td>0.0</td>\n",
       "    </tr>\n",
       "    <tr>\n",
       "      <th>2</th>\n",
       "      <td>-1.015901</td>\n",
       "      <td>-0.763150</td>\n",
       "      <td>5.0</td>\n",
       "    </tr>\n",
       "    <tr>\n",
       "      <th>3</th>\n",
       "      <td>-1.408394</td>\n",
       "      <td>-2.414927</td>\n",
       "      <td>0.0</td>\n",
       "    </tr>\n",
       "    <tr>\n",
       "      <th>4</th>\n",
       "      <td>0.957406</td>\n",
       "      <td>2.141353</td>\n",
       "      <td>0.0</td>\n",
       "    </tr>\n",
       "    <tr>\n",
       "      <th>5</th>\n",
       "      <td>1.906639</td>\n",
       "      <td>3.440396</td>\n",
       "      <td>2.0</td>\n",
       "    </tr>\n",
       "  </tbody>\n",
       "</table>\n",
       "</div>"
      ],
      "text/plain": [
       "      eps-2  cifar-ae  delta_k\n",
       "1 -1.461329 -1.796336      0.0\n",
       "2 -1.015901 -0.763150      5.0\n",
       "3 -1.408394 -2.414927      0.0\n",
       "4  0.957406  2.141353      0.0\n",
       "5  1.906639  3.440396      2.0"
      ]
     },
     "execution_count": 12,
     "metadata": {},
     "output_type": "execute_result"
    }
   ],
   "source": [
    "difs = pd.DataFrame.from_dict(delta_epk, orient='index')\n",
    "difs.columns = ['eps-2', 'cifar-ae', 'delta_k']\n",
    "difs.head()"
   ]
  },
  {
   "cell_type": "code",
   "execution_count": 16,
   "metadata": {
    "scrolled": true
   },
   "outputs": [
    {
     "data": {
      "image/png": "[encoded data removed]",
      "text/plain": [
       "<matplotlib.figure.Figure at 0x27b4f3c7908>"
      ]
     },
     "metadata": {},
     "output_type": "display_data"
    }
   ],
   "source": [
    "difs.plot('eps-2', 'cifar-ae', kind='scatter')\n",
    "plt.xlabel ='$ \\epsilon - AE distance $'\n",
    "plt.ylabel = '$\\epsilon_real / \\epsilon_ae$'\n",
    "#plt.show()\n",
    "#plt.gcf().savefig('eps_df')"
   ]
  },
  {
   "cell_type": "code",
   "execution_count": 17,
   "metadata": {},
   "outputs": [
    {
     "data": {
      "image/png": "[encoded data removed]",
      "text/plain": [
       "<matplotlib.figure.Figure at 0x27b4d13fcf8>"
      ]
     },
     "metadata": {},
     "output_type": "display_data"
    }
   ],
   "source": [
    "difs.plot('eps-2', 'delta_k', kind='scatter')\n",
    "plt.xlabel ='$ \\epsilon - AE distance $'\n",
    "plt.ylabel = '$\\epsilon_real / \\epsilon_ae$'"
   ]
  },
  {
   "cell_type": "code",
   "execution_count": null,
   "metadata": {},
   "outputs": [],
   "source": [
    "example_stability.loc[pd.IndexSlice[:,'FGM-0.02'], :]"
   ]
  },
  {
   "cell_type": "code",
   "execution_count": null,
   "metadata": {},
   "outputs": [],
   "source": [
    "fig = figure(title='Value of k for which some gaas directions work within epsilon')\n",
    "#epsilon is 1/10 the closest gaussian boundary\n",
    "#fig.multi_line(range(len(candidate_dim[dataset])), sorted(candidate_dim[dataset].values()))\n",
    "#dataset = 'FGM-0.02'\n",
    "fig.multi_line([list(range(len(candidate_dim[dataset]))) for dataset in candidate_dim.keys()], [sorted(candidate_dim[dataset].values()) for dataset in candidate_dim.keys()], line_color = 'Red')\n",
    "fig.xaxis.axis_label = \"Sorted example\"\n",
    "fig.yaxis.axis_label = \"Largest value of k for that example's epsilon\"\n",
    "\n",
    "show(fig)\n",
    "\n",
    "\n"
   ]
  },
  {
   "cell_type": "code",
   "execution_count": null,
   "metadata": {},
   "outputs": [],
   "source": [
    "for dataset in df.Dataset.unique():\n",
    "    ax = plt.plot(sorted(candidate_dim[dataset].values()), label= dataset)\n",
    "plt.legend()\n",
    "\n",
    "plt.gcf().savefig('k_dim')"
   ]
  },
  {
   "cell_type": "code",
   "execution_count": null,
   "metadata": {
    "collapsed": true
   },
   "outputs": [],
   "source": [
    "import matplotlib.pyplot as pyplt"
   ]
  },
  {
   "cell_type": "code",
   "execution_count": null,
   "metadata": {
    "collapsed": true
   },
   "outputs": [],
   "source": [
    "for key1 in candidate_dim.keys():\n",
    "    for key2, val in candidate_dim[key1].items():\n",
    "        if np.isnan(candidate_dim[key1][key2]):\n",
    "            candidate_dim[key1].pop(key1)"
   ]
  },
  {
   "cell_type": "code",
   "execution_count": null,
   "metadata": {},
   "outputs": [],
   "source": [
    "'$\\epsilon$'\n",
    "pyplt.get_backend()"
   ]
  },
  {
   "cell_type": "code",
   "execution_count": null,
   "metadata": {
    "collapsed": true
   },
   "outputs": [],
   "source": [
    "median_bd = df[df.direction_type=='gaussian'].groupby(['Example#', 'Dataset']).boundary_distance.median()"
   ]
  },
  {
   "cell_type": "code",
   "execution_count": null,
   "metadata": {
    "collapsed": true,
    "scrolled": false
   },
   "outputs": [],
   "source": [
    "df[(df.direction_type=='gaussian') & (df.boundary_distance < 3)].groupby(['Example#', 'Dataset']).boundary_distance.count().hist(by='Dataset')"
   ]
  },
  {
   "cell_type": "code",
   "execution_count": null,
   "metadata": {
    "collapsed": true
   },
   "outputs": [],
   "source": [
    "test_df = df[(df.direction_type=='gaussian')].groupby(['Example#', 'Dataset']).boundary_distance.agg(lambda x: (x<2).sum())\n",
    "test_df = test_df.reset_index()\n",
    "class_1 = test_df[test_df.Dataset=='FGM-0.02']\n",
    "class_0 = test_df[test_df.Dataset=='cifar10']"
   ]
  },
  {
   "cell_type": "code",
   "execution_count": null,
   "metadata": {
    "collapsed": true
   },
   "outputs": [],
   "source": [
    "FGMs = ['FGM-0.02', 'FGM-0.03', 'FGM-0.05', 'FGM-0.10',\n",
    "       'FGM-0.15', 'FGM-0.20', 'FGM-0.25']\n",
    "IFGMs = ['I-FGM-0.02', 'I-FGM-0.03',\n",
    "       'I-FGM-0.05', 'I-FGM-0.10', 'I-FGM-0.15', 'I-FGM-0.20',\n",
    "       'I-FGM-0.25']"
   ]
  },
  {
   "cell_type": "code",
   "execution_count": null,
   "metadata": {
    "collapsed": true
   },
   "outputs": [],
   "source": [
    "#test_df.head()\n",
    "bad = test_df[(test_df.Dataset.isin(FGMs)) & (test_df.boundary_distance >0)] #this is testing the number with that boundary distance, not the distance itself\n",
    "good = test_df[(test_df.Dataset=='cifar10') & (test_df.boundary_distance <1)]\n"
   ]
  },
  {
   "cell_type": "code",
   "execution_count": null,
   "metadata": {
    "collapsed": true,
    "scrolled": true
   },
   "outputs": [],
   "source": [
    "print(len(good['Example#'].unique()))\n",
    "print(len(bad['Example#'].unique()))\n",
    "print(len([i for i in bad['Example#'].unique() if i in good['Example#'].unique() ]))"
   ]
  },
  {
   "cell_type": "markdown",
   "metadata": {},
   "source": [
    "This means that we could claim that 1157 of the 1500 examples are locally stable in the sense that none of our Gaussian perterbations of size 2 changed the class, while 773 of the AE examples had at least one boundary hit for a Gaussian perturbation size < 2.\n"
   ]
  },
  {
   "cell_type": "code",
   "execution_count": null,
   "metadata": {
    "collapsed": true
   },
   "outputs": [],
   "source": [
    "bad[bad.boundary_distance == 30]"
   ]
  },
  {
   "cell_type": "code",
   "execution_count": null,
   "metadata": {
    "collapsed": true
   },
   "outputs": [],
   "source": [
    "from sklearn.metrics import roc_curve\n",
    "y_score = np.concatenate([class_0.boundary_distance, class_1.boundary_distance], axis=0)\n",
    "y_true = np.concatenate([np.zeros((len(class_0),)), np.ones((len(class_1),))])\n",
    "fpr, tpr, _ = roc_curve(y_true, y_score)\n",
    "plt.plot(fpr, tpr)"
   ]
  },
  {
   "cell_type": "code",
   "execution_count": null,
   "metadata": {
    "collapsed": true
   },
   "outputs": [],
   "source": [
    "from sklearn.metrics import auc\n",
    "auc(fpr, tpr)"
   ]
  },
  {
   "cell_type": "code",
   "execution_count": null,
   "metadata": {
    "collapsed": true
   },
   "outputs": [],
   "source": [
    "median_bd = median_bd.reset_index()\n",
    "#median_bd['median_dif_.02'] = \n",
    "print(median_bd.head(10))\n",
    "bound_dists = pd.pivot(median_bd['Example#'], median_bd.Dataset, median_bd.boundary_distance)"
   ]
  },
  {
   "cell_type": "code",
   "execution_count": null,
   "metadata": {
    "collapsed": true
   },
   "outputs": [],
   "source": [
    "\n",
    "#bound_dists['median_dif_.03'] = bound_dists.cifar10 - bound_dists['FGM-0.03']\n",
    "ax = bound_dists.hist()"
   ]
  },
  {
   "cell_type": "markdown",
   "metadata": {},
   "source": [
    "I had expected to see more of a difference in the boundary distance for regular examples (cifar10) versus the stronger FGM, but the distributions look similar.\n",
    "\n",
    "# 'Subspace dimension'\n",
    "Next, let's look focus on the gaas 'subspaces' and how well those work-- in the sense of actually creating AE directions within a reasonable distance."
   ]
  },
  {
   "cell_type": "code",
   "execution_count": null,
   "metadata": {
    "collapsed": true
   },
   "outputs": [],
   "source": [
    "#create subsets\n",
    "k2= df[(df.k==2) & (df.direction_type=='gaas')  & (df.Dataset == 'cifar10')].groupby('Example#')\n",
    "k5= df[(df.k==5) & (df.direction_type=='gaas') & (df.Dataset == 'cifar10')].groupby('Example#')\n",
    "k10= df[(df.k==10) & (df.direction_type=='gaas') & (df.Dataset == 'cifar10')].groupby('Example#')"
   ]
  },
  {
   "cell_type": "code",
   "execution_count": null,
   "metadata": {
    "collapsed": true
   },
   "outputs": [],
   "source": [
    "k100= df[(df.k==100) & (df.direction_type=='gaas') & (df.Dataset == 'cifar10')].groupby('Example#')"
   ]
  },
  {
   "cell_type": "code",
   "execution_count": null,
   "metadata": {
    "collapsed": true
   },
   "outputs": [],
   "source": [
    "#check on 1 example\n",
    "k10.boundary_distance.agg(lambda x: (x<1).sum()).value_counts() "
   ]
  },
  {
   "cell_type": "code",
   "execution_count": null,
   "metadata": {
    "collapsed": true,
    "scrolled": true
   },
   "outputs": [],
   "source": [
    "k10.boundary_distance.head()"
   ]
  },
  {
   "cell_type": "code",
   "execution_count": null,
   "metadata": {
    "collapsed": true
   },
   "outputs": [],
   "source": [
    "median_dist = k10.boundary_distance.median()\n",
    "median_dist.hist(bins=100)"
   ]
  },
  {
   "cell_type": "code",
   "execution_count": null,
   "metadata": {
    "collapsed": true
   },
   "outputs": [],
   "source": [
    "#Precalculate data using different distance thresholds.\n",
    "bd_hists = {}\n",
    "for d in range(81): #np.linspace(0,10,41):\n",
    "    hist = np.histogram(k100.boundary_distance.agg(lambda x: (x<d/4).sum()), bins=101)\n",
    "    bd_hists['_' + str(d)] = ColumnDataSource(dict(x=np.ceil(hist[1][:-1]), y=hist[0]))\n",
    "source=bd_hists['_1'] #starting source for histogram"
   ]
  },
  {
   "cell_type": "code",
   "execution_count": null,
   "metadata": {
    "collapsed": true
   },
   "outputs": [],
   "source": [
    "#This is a javascript trick to make the slider do what I want.  \n",
    "steps = range(81) #np.linspace(0,10,41)\n",
    "dict_of_sources = dict(zip(\n",
    "                      [x for x in steps],\n",
    "                      ['_%s' % x for x in steps])\n",
    "                      )\n",
    "\n",
    "js_source_array = str(dict_of_sources).replace(\"'\", \"\")\n",
    "#print(js_source_array)"
   ]
  },
  {
   "cell_type": "code",
   "execution_count": null,
   "metadata": {
    "collapsed": true
   },
   "outputs": [],
   "source": [
    "p = figure(title='Histogram of successful gaas directions for k=100, different distance thresholds', y_range=(0,200))\n",
    "p.vbar(source=source, x='x', top='y', width=0.7)\n",
    "p.xaxis.axis_label = \"Number of AE using given boundary threshold\"\n",
    "p.yaxis.axis_label = \"Count of samples\"\n",
    "#p.y_range = Range1d(0,1300)\n",
    "code=\"\"\"    \n",
    "    var f = slider.get('value'),\n",
    "        bd_hists = %s, \n",
    "        new_source = bd_hists[f].get('data');\n",
    "    source.set('data', new_source);\n",
    "    \n",
    "\"\"\" % js_source_array\n",
    "\n",
    "callback = CustomJS(args = bd_hists, code=code)\n",
    "s1 = Slider(start=1, end=80, value=1, step=1, callback = callback, title='4 * Distance Threshold')\n",
    "s1.js_on_change('value', callback)\n",
    "callback.args[\"source\"] = source\n",
    "callback.args[\"slider\"] = s1\n",
    "show(column(s1, p))\n"
   ]
  },
  {
   "cell_type": "markdown",
   "metadata": {},
   "source": [
    "Drag the slider above to try out different thresholds.  The slider is for 4 times the thresholds, i.e. intervals of 0.25 L2 distance, to get around how javascript vs python treat floats.  Even at the maximum distance we tried, 20, there are some gaas directions that fail to be adversarial.  There is still some all or nothing feel, where the vast majority of examples either have all 10 directions work or none, with only a few scattered in between.  We can now do the same thing for k=2 and k=5."
   ]
  },
  {
   "cell_type": "code",
   "execution_count": null,
   "metadata": {
    "collapsed": true
   },
   "outputs": [],
   "source": [
    "detection_curve = df[(df.direction_type == 'gaas') & (df['Example#']) & (df.Dataset == 'cifar10')].groupby(['Example#', 'k']).boundary_distance.median()\n",
    "dc = detection_curve.reset_index()\n",
    "\n",
    "dc2 = df[(df.direction_type == 'gaas') & (df['Example#']) & (df.Dataset == 'I-FGM-0.05')].groupby(['Example#', 'k']).boundary_distance.median()\n",
    "dc2 = dc2.reset_index()\n",
    "\n",
    "dc3 = df[(df.direction_type == 'gaas') & (df['Example#']) & (df.Dataset == 'FGM-0.05')].groupby(['Example#', 'k']).boundary_distance.median()\n",
    "dc3 = dc3.reset_index()\n",
    "\n",
    "df.Dataset.unique()"
   ]
  },
  {
   "cell_type": "code",
   "execution_count": null,
   "metadata": {
    "collapsed": true
   },
   "outputs": [],
   "source": [
    "avail_cifar = dc['Example#'].unique()\n",
    "avail_ifgm = dc2['Example#'].unique()\n",
    "avail_fgm = dc3['Example#'].unique()\n"
   ]
  },
  {
   "cell_type": "code",
   "execution_count": null,
   "metadata": {
    "collapsed": true,
    "scrolled": false
   },
   "outputs": [],
   "source": [
    "# Draw independent samples and plot the detection curves for these examples to look for differences\n",
    "fig, ax = plt.subplots(10, 3, figsize=(30,50))\n",
    "for i in range(10):\n",
    "    #print('_________')\n",
    "    for sample in np.random.choice(avail_cifar,12):\n",
    "        #print(sample)\n",
    "        ax[i,0].plot(dc[dc['Example#']==sample].k, dc[dc['Example#']==sample].boundary_distance, label='Example#')\n",
    "        ax[i,0].set_title('Cifar-10')\n",
    "        ax[i,0].set_xlabel('k')\n",
    "        ax[i,0].set_ylabel('median boundary distance')\n",
    "    for sample in np.random.choice(avail_ifgm,12):\n",
    "        ax[i,1].plot(dc2[dc2['Example#']==sample].k, dc2[dc2['Example#']==sample].boundary_distance, label='Example#')\n",
    "        ax[i,1].set_title('I-FGM-0.05')\n",
    "        ax[i,1].set_xlabel('k')\n",
    "        ax[i,1].set_ylabel('median boundary distance')        \n",
    "    for sample in np.random.choice(avail_fgm,12):\n",
    "        ax[i,2].plot(dc3[dc3['Example#']==sample].k, dc3[dc3['Example#']==sample].boundary_distance, label='Example#')\n",
    "        ax[i,2].set_title('FGM-0.05')\n",
    "        ax[i,2].set_xlabel('k')\n",
    "        ax[i,2].set_ylabel('median boundary distance')\n",
    "fig.savefig('Detection curve samples')            "
   ]
  },
  {
   "cell_type": "code",
   "execution_count": null,
   "metadata": {
    "collapsed": true
   },
   "outputs": [],
   "source": [
    "np.random.choice(avail_cifar, 10)"
   ]
  },
  {
   "cell_type": "code",
   "execution_count": null,
   "metadata": {
    "collapsed": true
   },
   "outputs": [],
   "source": [
    "fig, ax = plt.subplots()\n",
    "for ex in dc2['Example#'].unique():\n",
    "    ax.plot(dc2[dc2['Example#']==ex].k, dc2[dc2['Example#']==ex].boundary_distance, label='Example#', )\n",
    "    #detection_curve[detection_curve['Example#']==ex].plot(x='k', y='boundary_distance', label='Example#')\n",
    "ax.set_xlabel('k')\n",
    "ax.set_ylabel('median boundary distance')"
   ]
  },
  {
   "cell_type": "code",
   "execution_count": null,
   "metadata": {
    "collapsed": true
   },
   "outputs": [],
   "source": [
    "dc3 = df[(df.direction_type == 'gaas') & (df['Example#']<=10) & (df.Dataset == 'FGM-0.02')].groupby(['Example#', 'k']).boundary_distance.median()\n",
    "dc3 = dc3.reset_index()\n",
    "fig, ax = plt.subplots()\n",
    "for ex in dc3['Example#'].unique():\n",
    "    ax.plot(dc3[dc3['Example#']==ex].k, dc3[dc3['Example#']==ex].boundary_distance, label='Example#' )\n",
    "    #detection_curve[detection_curve['Example#']==ex].plot(x='k', y='boundary_distance', label='Example#')\n",
    "ax.set_xlabel('k')\n",
    "ax.set_ylabel('median boundary distance')"
   ]
  },
  {
   "cell_type": "code",
   "execution_count": null,
   "metadata": {
    "collapsed": true
   },
   "outputs": [],
   "source": [
    "#Same calculations for k=2,5.\n",
    "bd_hists5 = {}\n",
    "for d in range(81): #np.linspace(0,10,41):\n",
    "    hist = np.histogram(k5.boundary_distance.agg(lambda x: (x<d/4).sum()), bins=6)\n",
    "    bd_hists5['_' + str(d)] = ColumnDataSource(dict(x=np.ceil(hist[1][:-1]), y=hist[0]))\n",
    "source5=bd_hists5['_1'] #starting source for histogram\n",
    "\n",
    "p5 = figure(title='Histogram of successful gaas directions for k=5, different distance thresholds', y_range=(0,1600))\n",
    "p5.vbar(source=source5, x='x', top='y', width=0.7)\n",
    "p5.xaxis.axis_label = \"Number of AE using given boundary threshold\"\n",
    "p5.yaxis.axis_label = \"Count of samples\"\n",
    "#p.y_range = Range1d(0,1300)\n",
    "code5=\"\"\"    \n",
    "    var f = slider.get('value'),\n",
    "        bd_hists5 = %s, \n",
    "        new_source = bd_hists5[f].get('data');\n",
    "    source5.set('data', new_source);    \n",
    "\"\"\" % js_source_array\n",
    "\n",
    "callback5 = CustomJS(args = bd_hists5, code=code5)\n",
    "s5 = Slider(start=1, end=80, value=1, step=1, callback = callback5, title='4 * Distance Threshold')\n",
    "#s5.js_on_change('value', callback5)\n",
    "callback5.args[\"source5\"] = source5\n",
    "callback5.args[\"slider\"] = s5\n",
    "\n",
    "bd_hists2 = {}\n",
    "for d in range(81): #np.linspace(0,10,41):\n",
    "    hist = np.histogram(k2.boundary_distance.agg(lambda x: (x<d/4).sum()), bins=3)\n",
    "    bd_hists2['_' + str(d)] = ColumnDataSource(dict(x=np.ceil(hist[1][:-1]), y=hist[0]))\n",
    "source2=bd_hists2['_1'] #starting source for histogram\n",
    "\n",
    "p2 = figure(title='Histogram of successful gaas directions for k=2, different distance thresholds', y_range=(0,1600))\n",
    "p2.vbar(source=source2, x='x', top='y', width=0.7)\n",
    "p2.xaxis.axis_label = \"Number of AE using given boundary threshold\"\n",
    "p2.yaxis.axis_label = \"Count of samples\"\n",
    "#p.y_range = Range1d(0,1300)\n",
    "code2=\"\"\"    \n",
    "    var f = slider.get('value'),\n",
    "        bd_hists2 = %s, \n",
    "        new_source = bd_hists2[f].get('data');\n",
    "    source2.set('data', new_source);    \n",
    "\"\"\" % js_source_array\n",
    "\n",
    "callback2 = CustomJS(args = bd_hists2, code=code2)\n",
    "s2 = Slider(start=1, end=80, value=1, step=1, callback = callback2, title='4 * Distance Threshold')\n",
    "#s2.js_on_change('value', callback2)\n",
    "callback2.args[\"source2\"] = source2\n",
    "callback2.args[\"slider\"] = s2\n",
    "\n",
    "show(layout([[s5, s2], [p5, p2]], responsive=True))\n"
   ]
  },
  {
   "cell_type": "markdown",
   "metadata": {},
   "source": [
    "There's not much more interesting here.  Next, let's look at the levels of attack and different directions.  \n",
    "# Average distances to boundary"
   ]
  },
  {
   "cell_type": "code",
   "execution_count": null,
   "metadata": {
    "collapsed": true
   },
   "outputs": [],
   "source": [
    "grouped = df.groupby(['Dataset', 'direction_type'])\n",
    "plot_vals = grouped.boundary_distance.mean()\n",
    "plot_df = plot_vals.unstack('Dataset')\n",
    "print(plot_df)"
   ]
  },
  {
   "cell_type": "markdown",
   "metadata": {},
   "source": [
    "Comparing some of this with Figure 4 from Tramer et al Subspace, we have larger distances overall (probably because cifar vs mnist), but a somewhat similar pattern (we didn't do interboundary distance or legitimate direction). "
   ]
  },
  {
   "cell_type": "code",
   "execution_count": null,
   "metadata": {
    "collapsed": true
   },
   "outputs": [],
   "source": [
    "ax = plot_df.plot(sort_columns=['direction_type'], title='Mean distance to boundary by direction type and starting point')"
   ]
  },
  {
   "cell_type": "markdown",
   "metadata": {},
   "source": [
    "Notice that the gaas_convex_combo is closer to a boundary, on par with the gradient.  This is expected, since the convex combination uses a coefficient vector with norm 1 and positive entries.  This means that the combo points in a direction 'between' the gaas directions.  The gaas directions are spread around the gradient, so the combo is closer to the gradient direction.  We might thus expect that the gaas success would decrease with k but the convex combo success would remain similar."
   ]
  },
  {
   "cell_type": "code",
   "execution_count": null,
   "metadata": {
    "collapsed": true
   },
   "outputs": [],
   "source": [
    "df.hist('boundary_distance', by=['k', 'direction_type'], bins=40)"
   ]
  },
  {
   "cell_type": "code",
   "execution_count": null,
   "metadata": {
    "collapsed": true
   },
   "outputs": [],
   "source": [
    "df.groupby(['k', 'direction_type']).boundary_distance.mean()"
   ]
  },
  {
   "cell_type": "code",
   "execution_count": null,
   "metadata": {
    "collapsed": true
   },
   "outputs": [],
   "source": [
    "df.groupby(['k', 'direction_type']).boundary_distance.median()"
   ]
  },
  {
   "cell_type": "code",
   "execution_count": null,
   "metadata": {
    "collapsed": true
   },
   "outputs": [],
   "source": [
    "print(df.boundary_distance[df.direction_type == 'gradient'].mean())\n",
    "print(df.boundary_distance[df.direction_type == 'gradient'].median())"
   ]
  },
  {
   "cell_type": "code",
   "execution_count": null,
   "metadata": {
    "collapsed": true
   },
   "outputs": [],
   "source": [
    "ax = grouped.boundary_distance.median().unstack('Dataset').plot(title='Median distance to boundary by direction type and starting point')"
   ]
  },
  {
   "cell_type": "code",
   "execution_count": null,
   "metadata": {
    "collapsed": true
   },
   "outputs": [],
   "source": [
    "counts = df.groupby(['y', 'y_hat']).ell2_grad.count()\n",
    "counts.reset_index().plot.scatter('y', 'y_hat', s = counts)"
   ]
  },
  {
   "cell_type": "markdown",
   "metadata": {},
   "source": [
    "This plot is a little loose, but gives a sense of the starting vs ending classes, which aren't evenly distributed but don't seem to have a strong pattern. \n",
    "\n",
    "Next, we look at **class purity**, or the distribution of how many different ending classes were reached for a given starting example.  It's often the case that most examples reach just 2 or 3 other classes out of the 10, but unfortunately this doesn't look very different for the real vs AE starting points."
   ]
  },
  {
   "cell_type": "code",
   "execution_count": null,
   "metadata": {
    "collapsed": true
   },
   "outputs": [],
   "source": [
    "purity_group = df[df.direction_type == 'gaussian'].groupby(['Example#', 'Dataset'])\n",
    "ax = purity_group.y_hat.nunique().hist(by='Dataset')"
   ]
  },
  {
   "cell_type": "markdown",
   "metadata": {},
   "source": [
    "We're also interested in how the loss changes when we move different distances in the different directions.  This is slightly misleading, because we aren't testing various distances in each direction.  Rather, we record the distance to boundary (if we reach it).  Still, it seems worth looking at whether a greater distance is needed to produce the same loss, or creates a greater loss in order to change the class. \n",
    "\n",
    "To start, let's restrict to 'close' boundaries."
   ]
  },
  {
   "cell_type": "code",
   "execution_count": null,
   "metadata": {
    "collapsed": true
   },
   "outputs": [],
   "source": [
    "close = df[df.boundary_distance < 5]\n",
    "type_index = {j:i for i, j in enumerate(close.direction_type.unique())}\n",
    "plt.scatter(close.boundary_distance, close.delta_loss, c = close.direction_type.map(type_index), label = close.direction_type, s = 0.5)\n",
    "#plt.legend()"
   ]
  },
  {
   "cell_type": "markdown",
   "metadata": {},
   "source": [
    "Not that useful, though it does show a different pattern for the direction types (as we would expect).  Let's look at each separately (but combining all FGMs).\n",
    "\n",
    "These histograms show the counts over boundary distance and change in loss."
   ]
  },
  {
   "cell_type": "code",
   "execution_count": null,
   "metadata": {
    "collapsed": true,
    "scrolled": false
   },
   "outputs": [],
   "source": [
    "fig, axs = plt.subplots(5, 2,  figsize=(30,40))\n",
    "for i, direction in enumerate(close.direction_type.unique()):\n",
    "    axs[i,0].set_title('cifar10' + ', ' + direction)\n",
    "    axs[i,0].hist2d(close[(close.direction_type == direction) & (close.Dataset == 'cifar10')].boundary_distance, close[(close.direction_type == direction) & (close.Dataset == 'cifar10')].delta_loss, bins=50, norm=colors.LogNorm())\n",
    "    axs[i,0].set_xlabel('Boundary Distance')\n",
    "    axs[i,0].set_ylabel('Change in Loss')\n",
    "    axs[i,1].set_title('FGM' + ', ' + direction)\n",
    "    axs[i,1].hist2d(close[(close.direction_type == direction) & (close.Dataset != 'cifar10')].boundary_distance, close[(close.direction_type == direction) & (close.Dataset != 'cifar10')].delta_loss, bins=50, norm=colors.LogNorm())\n",
    "    axs[i,1].set_xlabel('Boundary Distance')\n",
    "    axs[i,1].set_ylabel('Change in Loss')\n",
    "    "
   ]
  },
  {
   "cell_type": "markdown",
   "metadata": {},
   "source": [
    "Note the log-count coloring.  The random (gaussian) direction is the main one that induces negative loss while changing class."
   ]
  },
  {
   "cell_type": "code",
   "execution_count": null,
   "metadata": {
    "collapsed": true
   },
   "outputs": [],
   "source": [
    "df.delta_loss.describe()"
   ]
  }
 ],
 "metadata": {
  "anaconda-cloud": {},
  "kernelspec": {
   "display_name": "Python 3",
   "language": "python",
   "name": "python3"
  },
  "language_info": {
   "codemirror_mode": {
    "name": "ipython",
    "version": 3
   },
   "file_extension": ".py",
   "mimetype": "text/x-python",
   "name": "python",
   "nbconvert_exporter": "python",
   "pygments_lexer": "ipython3",
   "version": "3.6.1"
  }
 },
 "nbformat": 4,
 "nbformat_minor": 1
}
